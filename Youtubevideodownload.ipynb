{
 "cells": [
  {
   "cell_type": "code",
   "execution_count": 1,
   "metadata": {},
   "outputs": [
    {
     "name": "stdout",
     "output_type": "stream",
     "text": [
      "Requirement already satisfied: pytube3 in c:\\users\\nikita patra\\appdata\\local\\programs\\python\\python312\\lib\\site-packages (9.6.4)Note: you may need to restart the kernel to use updated packages.\n",
      "\n",
      "Requirement already satisfied: typing-extensions in c:\\users\\nikita patra\\appdata\\local\\programs\\python\\python312\\lib\\site-packages (from pytube3) (4.12.2)\n"
     ]
    }
   ],
   "source": [
    "pip install pytube3"
   ]
  },
  {
   "cell_type": "code",
   "execution_count": 2,
   "metadata": {},
   "outputs": [
    {
     "name": "stdout",
     "output_type": "stream",
     "text": [
      "Collecting pytube\n",
      "  Using cached pytube-15.0.0-py3-none-any.whl.metadata (5.0 kB)\n",
      "Using cached pytube-15.0.0-py3-none-any.whl (57 kB)\n",
      "Installing collected packages: pytube\n",
      "Successfully installed pytube-15.0.0\n",
      "Note: you may need to restart the kernel to use updated packages.\n"
     ]
    }
   ],
   "source": [
    "pip install --upgrade pytube"
   ]
  },
  {
   "cell_type": "code",
   "execution_count": 3,
   "metadata": {},
   "outputs": [],
   "source": [
    "from pytube import YouTube"
   ]
  },
  {
   "cell_type": "code",
   "execution_count": 5,
   "metadata": {},
   "outputs": [
    {
     "name": "stdout",
     "output_type": "stream",
     "text": [
      "Collecting yt-dlp\n",
      "  Using cached yt_dlp-2024.8.6-py3-none-any.whl.metadata (170 kB)\n",
      "Requirement already satisfied: brotli in c:\\users\\nikita patra\\appdata\\local\\programs\\python\\python312\\lib\\site-packages (from yt-dlp) (1.1.0)\n",
      "Requirement already satisfied: certifi in c:\\users\\nikita patra\\appdata\\local\\programs\\python\\python312\\lib\\site-packages (from yt-dlp) (2024.8.30)\n",
      "Requirement already satisfied: mutagen in c:\\users\\nikita patra\\appdata\\local\\programs\\python\\python312\\lib\\site-packages (from yt-dlp) (1.47.0)\n",
      "Requirement already satisfied: pycryptodomex in c:\\users\\nikita patra\\appdata\\local\\programs\\python\\python312\\lib\\site-packages (from yt-dlp) (3.20.0)\n",
      "Requirement already satisfied: requests<3,>=2.32.2 in c:\\users\\nikita patra\\appdata\\local\\programs\\python\\python312\\lib\\site-packages (from yt-dlp) (2.32.3)\n",
      "Requirement already satisfied: urllib3<3,>=1.26.17 in c:\\users\\nikita patra\\appdata\\local\\programs\\python\\python312\\lib\\site-packages (from yt-dlp) (2.2.2)\n",
      "Requirement already satisfied: websockets>=12.0 in c:\\users\\nikita patra\\appdata\\local\\programs\\python\\python312\\lib\\site-packages (from yt-dlp) (13.0.1)\n",
      "Requirement already satisfied: charset-normalizer<4,>=2 in c:\\users\\nikita patra\\appdata\\local\\programs\\python\\python312\\lib\\site-packages (from requests<3,>=2.32.2->yt-dlp) (3.3.2)\n",
      "Requirement already satisfied: idna<4,>=2.5 in c:\\users\\nikita patra\\appdata\\local\\programs\\python\\python312\\lib\\site-packages (from requests<3,>=2.32.2->yt-dlp) (3.8)\n",
      "Using cached yt_dlp-2024.8.6-py3-none-any.whl (3.1 MB)\n",
      "Installing collected packages: yt-dlp\n",
      "Successfully installed yt-dlp-2024.8.6\n",
      "Note: you may need to restart the kernel to use updated packages.\n"
     ]
    }
   ],
   "source": [
    "pip install yt-dlp"
   ]
  },
  {
   "cell_type": "code",
   "execution_count": 6,
   "metadata": {},
   "outputs": [],
   "source": [
    "link = input(\"Enter youtube video\")\n",
    "yt = YouTube(link)"
   ]
  },
  {
   "cell_type": "code",
   "execution_count": 7,
   "metadata": {},
   "outputs": [
    {
     "name": "stdout",
     "output_type": "stream",
     "text": [
      "Title : Zindagi Tere Naam\n",
      "Views : 46673525\n",
      "Duration : 196\n",
      "Description : None\n",
      "Ratings : None\n"
     ]
    }
   ],
   "source": [
    "# To print title\n",
    "print(\"Title :\", yt.title)\n",
    "# To get number of views\n",
    "print(\"Views :\", yt.views)\n",
    "# To get the length of video\n",
    "print(\"Duration :\", yt.length)\n",
    "# To get description\n",
    "print(\"Description :\", yt.description)\n",
    "# To get ratings\n",
    "print(\"Ratings :\", yt.rating)"
   ]
  },
  {
   "cell_type": "code",
   "execution_count": 9,
   "metadata": {},
   "outputs": [
    {
     "name": "stdout",
     "output_type": "stream",
     "text": [
      "Downloading...\n",
      "[youtube] Extracting URL: https://www.youtube.com/watch?v=Kn9FJsNOaUU\n",
      "[youtube] Kn9FJsNOaUU: Downloading webpage\n",
      "[youtube] Kn9FJsNOaUU: Downloading ios player API JSON\n",
      "[youtube] Kn9FJsNOaUU: Downloading web creator player API JSON\n",
      "[youtube] Kn9FJsNOaUU: Downloading player 5f8f5b0f\n",
      "[youtube] Kn9FJsNOaUU: Downloading m3u8 information\n",
      "[info] Kn9FJsNOaUU: Downloading 1 format(s): 18\n",
      "[download] Destination: YODHA： Zindagi Tere Naam (Song) ｜ Sidharth Malhotra, Raashii Khanna ｜ Vishal Mishra [Kn9FJsNOaUU].mp4\n",
      "[download] 100% of   14.01MiB in 00:00:02 at 4.78MiB/s   \n",
      "Download completed.\n"
     ]
    }
   ],
   "source": [
    "from yt_dlp import YoutubeDL\n",
    "\n",
    "download_option = input(\"Do you want to download this video? (yes/no): \").lower()\n",
    "\n",
    "if download_option == \"yes\":\n",
    "    url = 'https://www.youtube.com/watch?v=Kn9FJsNOaUU'\n",
    "    ydl_opts = {'format': 'best'}\n",
    "    with YoutubeDL(ydl_opts) as ydl:\n",
    "        print(\"Downloading...\")\n",
    "        ydl.download([url])\n",
    "        print(\"Download completed.\")\n",
    "else:\n",
    "    print(\"Download aborted.\")\n"
   ]
  }
 ],
 "metadata": {
  "kernelspec": {
   "display_name": "Python 3",
   "language": "python",
   "name": "python3"
  },
  "language_info": {
   "codemirror_mode": {
    "name": "ipython",
    "version": 3
   },
   "file_extension": ".py",
   "mimetype": "text/x-python",
   "name": "python",
   "nbconvert_exporter": "python",
   "pygments_lexer": "ipython3",
   "version": "3.12.5"
  }
 },
 "nbformat": 4,
 "nbformat_minor": 2
}
